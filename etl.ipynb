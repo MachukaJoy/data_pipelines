{
 "cells": [
  {
   "cell_type": "markdown",
   "metadata": {},
   "source": [
    "# Libraries"
   ]
  },
  {
   "cell_type": "code",
   "execution_count": 2,
   "metadata": {},
   "outputs": [],
   "source": [
    "import pandas as pd\n",
    "import io\n",
    "import requests\n",
    "import zipfile\n",
    "import os"
   ]
  },
  {
   "cell_type": "markdown",
   "metadata": {},
   "source": [
    "# Extract"
   ]
  },
  {
   "cell_type": "code",
   "execution_count": 4,
   "metadata": {},
   "outputs": [],
   "source": [
    "response = requests.get('https://bit.ly/416WE1X')\n",
    "response.raise_for_status() # raise an error for bad status codes\n",
    "\n",
    "with zipfile.ZipFile(io.BytesIO(response.content)) as zip_file:\n",
    "    zip_file.extractall(os.getcwd())"
   ]
  },
  {
   "cell_type": "code",
   "execution_count": 14,
   "metadata": {},
   "outputs": [],
   "source": [
    "def extract():\n",
    "\n",
    "    # Read datasets\n",
    "    dataset1 = pd.read_csv('dataset1.csv')\n",
    "    dataset2 = pd.read_csv('dataset2.csv')\n",
    "    dataset3 = pd.read_csv('dataset3.csv')\n",
    "\n",
    "    # Calculate missing value percentages\n",
    "    missing1 = dataset1.isnull().mean() * 100\n",
    "    missing2 = dataset2.isnull().mean() * 100\n",
    "    missing3 = dataset3.isnull().mean() * 100\n",
    "\n",
    "    return (dataset1, missing1), (dataset2, missing2), (dataset3, missing3)"
   ]
  },
  {
   "cell_type": "code",
   "execution_count": 15,
   "metadata": {},
   "outputs": [
    {
     "data": {
      "text/plain": [
       "((    customer_id date_of_purchase  total_amount_billed payment_status  \\\n",
       "  0           101       04/01/2021                  100           paid   \n",
       "  1           102       04/02/2021                  200           paid   \n",
       "  2           103       04/02/2021                   50        overdue   \n",
       "  3           104       04/03/2021                   75       disputed   \n",
       "  4           105       04/04/2021                  125           paid   \n",
       "  5           106       04/05/2021                  150           paid   \n",
       "  6           107       04/06/2021                   75        overdue   \n",
       "  7           108       04/06/2021                  100        overdue   \n",
       "  8           109       04/07/2021                   50           paid   \n",
       "  9           110       04/07/2021                   25        overdue   \n",
       "  10          111       04/08/2021                  175           paid   \n",
       "  11          112       04/08/2021                  200           paid   \n",
       "  12          113       04/09/2021                   50       disputed   \n",
       "  13          114       04/10/2021                  100           paid   \n",
       "  14          115       04/10/2021                   75        overdue   \n",
       "  \n",
       "     payment_method promo_code country_of_purchase  \n",
       "  0     credit card     PROMO1                 USA  \n",
       "  1   bank transfer     PROMO2                 USA  \n",
       "  2     credit card        NaN                  UK  \n",
       "  3        e-wallet     PROMO3                  UK  \n",
       "  4     credit card     PROMO4                 USA  \n",
       "  5     credit card        NaN                  UK  \n",
       "  6        e-wallet     PROMO5                 USA  \n",
       "  7   bank transfer     PROMO6                 USA  \n",
       "  8   bank transfer        NaN                  UK  \n",
       "  9     credit card     PROMO7                 USA  \n",
       "  10       e-wallet     PROMO8                  UK  \n",
       "  11  bank transfer     PROMO9                 USA  \n",
       "  12    credit card    PROMO10                 USA  \n",
       "  13    credit card    PROMO11                 USA  \n",
       "  14       e-wallet    PROMO12                  UK  ,\n",
       "  customer_id             0.0\n",
       "  date_of_purchase        0.0\n",
       "  total_amount_billed     0.0\n",
       "  payment_status          0.0\n",
       "  payment_method          0.0\n",
       "  promo_code             20.0\n",
       "  country_of_purchase     0.0\n",
       "  dtype: float64),\n",
       " (    customer_id date_of_payment  amount_paid payment_method payment_status  \\\n",
       "  0           101      04/01/2021          100    credit card           paid   \n",
       "  1           102      04/03/2021          200  bank transfer           paid   \n",
       "  2           103      04/03/2021           75    credit card           paid   \n",
       "  3           104      04/04/2021           50       e-wallet        overdue   \n",
       "  4           105      04/05/2021          125    credit card           paid   \n",
       "  5           106      04/06/2021          150    credit card           paid   \n",
       "  6           107      04/07/2021           75       e-wallet        overdue   \n",
       "  7           108      04/07/2021          100  bank transfer        overdue   \n",
       "  8           109      04/08/2021           50  bank transfer           paid   \n",
       "  9           110      04/08/2021           25    credit card           paid   \n",
       "  10          111      04/09/2021          175       e-wallet           paid   \n",
       "  11          112      04/10/2021          200  bank transfer           paid   \n",
       "  12          113      04/10/2021           50    credit card       disputed   \n",
       "  13          114      04/11/2021          100    credit card           paid   \n",
       "  14          115      04/12/2021           75       e-wallet        overdue   \n",
       "  \n",
       "      late_payment_fee country_of_payment  \n",
       "  0                  0                USA  \n",
       "  1                  0                USA  \n",
       "  2                 10                 UK  \n",
       "  3                  0                 UK  \n",
       "  4                  0                USA  \n",
       "  5                  0                 UK  \n",
       "  6                 20                USA  \n",
       "  7                 30                USA  \n",
       "  8                  0                 UK  \n",
       "  9                  0                USA  \n",
       "  10                 0                 UK  \n",
       "  11                 0                USA  \n",
       "  12                 0                USA  \n",
       "  13                 0                USA  \n",
       "  14                15                 UK  ,\n",
       "  customer_id           0.0\n",
       "  date_of_payment       0.0\n",
       "  amount_paid           0.0\n",
       "  payment_method        0.0\n",
       "  payment_status        0.0\n",
       "  late_payment_fee      0.0\n",
       "  country_of_payment    0.0\n",
       "  dtype: float64),\n",
       " (    customer_id date_of_refund  refund_amount         reason_for_refund  \\\n",
       "  0           101     04/03/2021            100  product not as described   \n",
       "  1           102     04/06/2021            200         defective product   \n",
       "  2           103     04/07/2021             75            change of mind   \n",
       "  3           104     04/08/2021             50      product not received   \n",
       "  4           105     04/09/2021             25  product not as described   \n",
       "  5           106     04/11/2021            125         defective product   \n",
       "  6           107     04/12/2021            150            change of mind   \n",
       "  7           108     04/13/2021             75  product not as described   \n",
       "  8           109     04/13/2021            100         defective product   \n",
       "  9           110     04/14/2021             50      product not received   \n",
       "  10          111     04/15/2021            175         defective product   \n",
       "  11          112     04/16/2021            200            change of mind   \n",
       "  12          113     04/16/2021             50  product not as described   \n",
       "  13          114     04/17/2021            100         defective product   \n",
       "  14          115     04/18/2021             75      product not received   \n",
       "  \n",
       "     country_of_refund  \n",
       "  0                USA  \n",
       "  1                USA  \n",
       "  2                 UK  \n",
       "  3                 UK  \n",
       "  4                USA  \n",
       "  5                 UK  \n",
       "  6                USA  \n",
       "  7                USA  \n",
       "  8                 UK  \n",
       "  9                USA  \n",
       "  10                UK  \n",
       "  11               USA  \n",
       "  12               USA  \n",
       "  13               USA  \n",
       "  14                UK  ,\n",
       "  customer_id          0.0\n",
       "  date_of_refund       0.0\n",
       "  refund_amount        0.0\n",
       "  reason_for_refund    0.0\n",
       "  country_of_refund    0.0\n",
       "  dtype: float64))"
      ]
     },
     "execution_count": 15,
     "metadata": {},
     "output_type": "execute_result"
    }
   ],
   "source": [
    "extract()"
   ]
  },
  {
   "cell_type": "code",
   "execution_count": null,
   "metadata": {},
   "outputs": [],
   "source": []
  }
 ],
 "metadata": {
  "kernelspec": {
   "display_name": "base",
   "language": "python",
   "name": "python3"
  },
  "language_info": {
   "codemirror_mode": {
    "name": "ipython",
    "version": 3
   },
   "file_extension": ".py",
   "mimetype": "text/x-python",
   "name": "python",
   "nbconvert_exporter": "python",
   "pygments_lexer": "ipython3",
   "version": "3.12.7"
  }
 },
 "nbformat": 4,
 "nbformat_minor": 2
}
